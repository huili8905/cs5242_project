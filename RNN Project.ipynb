{
  "nbformat": 4,
  "nbformat_minor": 0,
  "metadata": {
    "colab": {
      "name": "CS5242 Project.ipynb",
      "provenance": [],
      "collapsed_sections": [],
      "toc_visible": true,
      "machine_shape": "hm",
      "authorship_tag": "ABX9TyNW+g4mHMk2joao6j89Cj5r",
      "include_colab_link": true
    },
    "kernelspec": {
      "name": "python3",
      "display_name": "Python 3"
    },
    "accelerator": "TPU"
  },
  "cells": [
    {
      "cell_type": "markdown",
      "metadata": {
        "id": "view-in-github",
        "colab_type": "text"
      },
      "source": [
        "<a href=\"https://colab.research.google.com/github/huili8905/cs5242_project/blob/Hui-Li/RNN%20Project.ipynb\" target=\"_parent\"><img src=\"https://colab.research.google.com/assets/colab-badge.svg\" alt=\"Open In Colab\"/></a>"
      ]
    },
    {
      "cell_type": "markdown",
      "metadata": {
        "id": "XjoRRLvgsWm2",
        "colab_type": "text"
      },
      "source": [
        "---\n",
        "\n",
        "\n",
        "# **Set-up for Google Drive**\n",
        "\n",
        "---\n",
        "\n",
        "1.   Load Libraries\n",
        "2.   Check GPU Setting\n",
        "3.   Mount Google Drive\n",
        "4.   Load Dataset"
      ]
    },
    {
      "cell_type": "code",
      "metadata": {
        "id": "xG3gvzoLyzx6",
        "colab_type": "code",
        "colab": {}
      },
      "source": [
        "#################################################\n",
        "#Crash the original RAM to increase to 25GB - if required\n",
        "#################################################\n",
        "a = []\n",
        "while(1):\n",
        "    a.append(\"1\")"
      ],
      "execution_count": 0,
      "outputs": []
    },
    {
      "cell_type": "code",
      "metadata": {
        "id": "uu-aUHd9bpAH",
        "colab_type": "code",
        "outputId": "d58d76cc-3123-462e-b944-a192b1e2ad96",
        "colab": {
          "base_uri": "https://localhost:8080/",
          "height": 99
        }
      },
      "source": [
        "######################\n",
        "1. #Maintain libraries\n",
        "######################\n",
        "#utils\n",
        "from google.colab import drive,files\n",
        "import tarfile\n",
        "\n",
        "#wrangling\n",
        "import pandas as pd\n",
        "import numpy as np\n",
        "import matplotlib.pyplot as plt\n",
        "import seaborn as sn\n",
        "import os\n",
        "\n",
        "#pytorch library\n",
        "import torch\n",
        "import torch.nn as nn\n",
        "import torch.nn.functional as F\n",
        "import torch.optim as optim\n",
        "\n",
        "from torch.utils.data import TensorDataset, DataLoader, Dataset\n",
        "\n",
        "#keras library\n",
        "import tensorflow as tf\n",
        "from keras.models import Sequential\n",
        "from keras.layers import Dense,TimeDistributed,LSTM,Masking, Dropout\n",
        "from keras.preprocessing import sequence\n",
        "from keras.callbacks import ModelCheckpoint"
      ],
      "execution_count": 0,
      "outputs": [
        {
          "output_type": "display_data",
          "data": {
            "text/html": [
              "<p style=\"color: red;\">\n",
              "The default version of TensorFlow in Colab will soon switch to TensorFlow 2.x.<br>\n",
              "We recommend you <a href=\"https://www.tensorflow.org/guide/migrate\" target=\"_blank\">upgrade</a> now \n",
              "or ensure your notebook will continue to use TensorFlow 1.x via the <code>%tensorflow_version 1.x</code> magic:\n",
              "<a href=\"https://colab.research.google.com/notebooks/tensorflow_version.ipynb\" target=\"_blank\">more info</a>.</p>\n"
            ],
            "text/plain": [
              "<IPython.core.display.HTML object>"
            ]
          },
          "metadata": {
            "tags": []
          }
        },
        {
          "output_type": "stream",
          "text": [
            "Using TensorFlow backend.\n"
          ],
          "name": "stderr"
        }
      ]
    },
    {
      "cell_type": "code",
      "metadata": {
        "id": "BhVPPRD7n1i3",
        "colab_type": "code",
        "outputId": "eb7800ec-7ce9-459d-e42d-2891e5343005",
        "colab": {
          "base_uri": "https://localhost:8080/",
          "height": 35
        }
      },
      "source": [
        "tf.__version__"
      ],
      "execution_count": 0,
      "outputs": [
        {
          "output_type": "execute_result",
          "data": {
            "text/plain": [
              "'1.15.0'"
            ]
          },
          "metadata": {
            "tags": []
          },
          "execution_count": 2
        }
      ]
    },
    {
      "cell_type": "code",
      "metadata": {
        "id": "UtRIdYTPryf8",
        "colab_type": "code",
        "outputId": "ac2fa05f-5fe7-4a21-e5d3-c9f4353e0efa",
        "colab": {
          "base_uri": "https://localhost:8080/",
          "height": 35
        }
      },
      "source": [
        "######################\n",
        "2. #Check GPU Setting\n",
        "######################\n",
        "torch.device('cuda' if torch.cuda.is_available() else 'cpu')"
      ],
      "execution_count": 0,
      "outputs": [
        {
          "output_type": "execute_result",
          "data": {
            "text/plain": [
              "device(type='cpu')"
            ]
          },
          "metadata": {
            "tags": []
          },
          "execution_count": 3
        }
      ]
    },
    {
      "cell_type": "code",
      "metadata": {
        "id": "f6uikH7KblU1",
        "colab_type": "code",
        "outputId": "3c0417f7-f733-42eb-cbdd-976cbf36f140",
        "colab": {
          "base_uri": "https://localhost:8080/",
          "height": 124
        }
      },
      "source": [
        "######################\n",
        "3. #Mount Google Drive\n",
        "######################\n",
        "drive.mount('/gdrive')"
      ],
      "execution_count": 0,
      "outputs": [
        {
          "output_type": "stream",
          "text": [
            "Go to this URL in a browser: https://accounts.google.com/o/oauth2/auth?client_id=947318989803-6bn6qk8qdgf4n4g3pfee6491hc0brc4i.apps.googleusercontent.com&redirect_uri=urn%3aietf%3awg%3aoauth%3a2.0%3aoob&response_type=code&scope=email%20https%3a%2f%2fwww.googleapis.com%2fauth%2fdocs.test%20https%3a%2f%2fwww.googleapis.com%2fauth%2fdrive%20https%3a%2f%2fwww.googleapis.com%2fauth%2fdrive.photos.readonly%20https%3a%2f%2fwww.googleapis.com%2fauth%2fpeopleapi.readonly\n",
            "\n",
            "Enter your authorization code:\n",
            "··········\n",
            "Mounted at /gdrive\n"
          ],
          "name": "stdout"
        }
      ]
    },
    {
      "cell_type": "code",
      "metadata": {
        "id": "115MrHhytxjk",
        "colab_type": "code",
        "outputId": "bd81d188-ac78-433c-c9a5-2cdb431d5a0d",
        "colab": {
          "base_uri": "https://localhost:8080/",
          "height": 35
        }
      },
      "source": [
        "######################\n",
        "4. #Load Dataset\n",
        "######################\n",
        "#Check default location\n",
        "os.getcwd()"
      ],
      "execution_count": 0,
      "outputs": [
        {
          "output_type": "execute_result",
          "data": {
            "text/plain": [
              "'/content'"
            ]
          },
          "metadata": {
            "tags": []
          },
          "execution_count": 5
        }
      ]
    },
    {
      "cell_type": "code",
      "metadata": {
        "id": "lfjdBcWut8Bm",
        "colab_type": "code",
        "colab": {}
      },
      "source": [
        "#Update your path to your dataset\n",
        "os.chdir('/gdrive/My Drive/')"
      ],
      "execution_count": 0,
      "outputs": []
    },
    {
      "cell_type": "code",
      "metadata": {
        "id": "KXWklFmVZkZb",
        "colab_type": "code",
        "colab": {}
      },
      "source": [
        "#Read read_datasetBreakfast.py from the folder location\n",
        "\n",
        "from read_datasetBreakfast import load_data, read_mapping_dict , get_label_length_seq\n",
        "COMP_PATH = '/gdrive/My Drive/'\n",
        "''' \n",
        "training to load train set\n",
        "test to load test set\n",
        "'''\n",
        "mapping_loc =  os.path.join(COMP_PATH, 'splits/mapping_bf.txt') \n",
        "actions_dict = read_mapping_dict(mapping_loc)\n",
        "GT_folder   =  os.path.join(COMP_PATH, 'groundTruth/') #Ground Truth Labels for each training video \n",
        "DATA_folder =  os.path.join(COMP_PATH, 'data/') #Frame I3D features for all videos\n",
        "\n",
        "\n",
        "for split in ['training','test']:\n",
        "  if  split == 'training':\n",
        "    train_split =  os.path.join(COMP_PATH, 'splits/train.split1.bundle') #Train Split\n",
        "    data_feat_train, data_labels = load_data(train_split, actions_dict, GT_folder, DATA_folder, datatype = split) #Get features and labels\n",
        "  if  split == 'test':\n",
        "    test_split  =  os.path.join(COMP_PATH, 'splits/test.split1.bundle') #Test Split\n",
        "    data_feat_test = load_data(test_split, actions_dict, GT_folder, DATA_folder, datatype = split)"
      ],
      "execution_count": 0,
      "outputs": []
    },
    {
      "cell_type": "markdown",
      "metadata": {
        "id": "rc-MbF5UwVrC",
        "colab_type": "text"
      },
      "source": [
        "---\n",
        "\n",
        "# **Data Preparation and Exploration**\n",
        "\n",
        "---\n",
        "\n",
        "1.   Check Data Shape\n",
        "2.   How Much Data\n",
        "3.   No. of Classes\n",
        "4.   Class Distribution (BY VIDEO)\n",
        "5.   Class Distribution (BY FRAME)\n",
        "6.   Get Tensor Data and Labels Ready"
      ]
    },
    {
      "cell_type": "code",
      "metadata": {
        "id": "jgS2QPCq8ibe",
        "colab_type": "code",
        "outputId": "e431eef3-9108-40da-9725-8644094f9af6",
        "colab": {
          "base_uri": "https://localhost:8080/",
          "height": 52
        }
      },
      "source": [
        "######################\n",
        "1. #Check Data Shape\n",
        "######################\n",
        "\n",
        "print(\"data shape: {} and date type: {}\".format(data_feat_train[0].shape,data_feat_train[0].dtype))\n",
        "print(\"data shape: {} and date type: {}\".format(data_feat_train[1].shape,data_feat_train[0].dtype))"
      ],
      "execution_count": 0,
      "outputs": [
        {
          "output_type": "stream",
          "text": [
            "data shape: torch.Size([544, 400]) and date type: torch.float64\n",
            "data shape: torch.Size([6932, 400]) and date type: torch.float64\n"
          ],
          "name": "stdout"
        }
      ]
    },
    {
      "cell_type": "code",
      "metadata": {
        "id": "C7F9aTy18qbT",
        "colab_type": "code",
        "outputId": "d7206e69-3843-47e8-82eb-884fb71e8816",
        "colab": {
          "base_uri": "https://localhost:8080/",
          "height": 87
        }
      },
      "source": [
        "######################\n",
        "2. #How Much Data\n",
        "######################\n",
        "print(\"Number of Training Data: {}\".format(len(data_feat_train)))\n",
        "print(\"Number of Training Data Labels: {}\".format(len(data_labels)))\n",
        "print(\"Number of Test Data: {}\".format(len(data_feat_test)))\n",
        "print(\"% of Test Data: {}\".format(len(data_feat_test)/(len(data_feat_train)+len(data_feat_test))*100))\n"
      ],
      "execution_count": 0,
      "outputs": [
        {
          "output_type": "stream",
          "text": [
            "Number of Training Data: 1460\n",
            "Number of Training Data Labels: 1460\n",
            "Number of Test Data: 252\n",
            "% of Test Data: 14.719626168224298\n"
          ],
          "name": "stdout"
        }
      ]
    },
    {
      "cell_type": "code",
      "metadata": {
        "id": "dIUjnOLzGGAP",
        "colab_type": "code",
        "outputId": "90fbb7fe-8d30-4a9d-99d1-d70a4b5f2b6c",
        "colab": {
          "base_uri": "https://localhost:8080/",
          "height": 52
        }
      },
      "source": [
        "##Unique Labels in each video\n",
        "print(\"Unique Labels in video 0: {} \".format(data_labels[0]))\n",
        "print(\"Frames in video 0: {} \".format(len(data_feat_train[0])))"
      ],
      "execution_count": 0,
      "outputs": [
        {
          "output_type": "stream",
          "text": [
            "Unique Labels in video 0: [1, 2] \n",
            "Frames in video 0: 544 \n"
          ],
          "name": "stdout"
        }
      ]
    },
    {
      "cell_type": "code",
      "metadata": {
        "id": "FpObGULa9wzf",
        "colab_type": "code",
        "outputId": "128dce97-4e61-4e3e-f0a1-578015c9971b",
        "colab": {
          "base_uri": "https://localhost:8080/",
          "height": 35
        }
      },
      "source": [
        "######################\n",
        "3. #No. of class\n",
        "###################### \n",
        "len(actions_dict)"
      ],
      "execution_count": 0,
      "outputs": [
        {
          "output_type": "execute_result",
          "data": {
            "text/plain": [
              "48"
            ]
          },
          "metadata": {
            "tags": []
          },
          "execution_count": 11
        }
      ]
    },
    {
      "cell_type": "code",
      "metadata": {
        "id": "lhNo70oU78D0",
        "colab_type": "code",
        "colab": {}
      },
      "source": [
        "######################\n",
        "4. #Class Distribution (BY VIDEO)\n",
        "######################\n",
        "def wrangle_class_distribution(data_label_var , actions_dict):\n",
        "  #check for labels class balance\n",
        "  data_label_var = pd.DataFrame(data_label_var)\n",
        "  data_label_var = pd.DataFrame(data_label_var.unstack(level=0)).reset_index()\n",
        "  data_label_var.drop('level_0',inplace=True,axis=1)\n",
        "  data_label_var.dropna(inplace=True)\n",
        "  data_label_var.columns =['sample_no','cat']\n",
        "  data_label_var['cat'].astype(int)\n",
        "  \n",
        "  #mapping for actions (change keys and values)\n",
        "  actions_dict2 = {y:x for x,y in actions_dict.items()}\n",
        "  data_label_var['cat_name'] = data_label_var['cat'].map(actions_dict2)\n",
        "\n",
        "  return data_label_var"
      ],
      "execution_count": 0,
      "outputs": []
    },
    {
      "cell_type": "code",
      "metadata": {
        "id": "hKPp9vHT_L6l",
        "colab_type": "code",
        "outputId": "7e3e1687-53f7-45d4-92ee-6e286e9c1582",
        "colab": {
          "base_uri": "https://localhost:8080/",
          "height": 537
        }
      },
      "source": [
        "%matplotlib inline\n",
        "sn.set(rc={'figure.figsize':(15.7,8.27)})\n",
        "Train_Class_Dis = wrangle_class_distribution(data_labels , actions_dict)\n",
        "\n",
        "sn.countplot(y= 'cat_name',orient= 'h',data=Train_Class_Dis,order = Train_Class_Dis['cat_name'].value_counts().index)\n",
        "plt.show()\n",
        "\n",
        "#note: no. of unique labels per label in each video"
      ],
      "execution_count": 0,
      "outputs": [
        {
          "output_type": "display_data",
          "data": {
            "image/png": "[encoded data removed]",
            "text/plain": [
              "<Figure size 1130.4x595.44 with 1 Axes>"
            ]
          },
          "metadata": {
            "tags": []
          }
        }
      ]
    },
    {
      "cell_type": "code",
      "metadata": {
        "id": "UCo5OmMqH1yU",
        "colab_type": "code",
        "colab": {}
      },
      "source": [
        "######################\n",
        "5. #Class Distribution (BY FRAME)\n",
        "######################\n",
        "def get_frame_breakdown(COMP_PATH):\n",
        "  gt_frame_overall = pd.DataFrame()\n",
        "  for filesname in os.listdir(COMP_PATH+'/groundTruth'):\n",
        "    gt_file_level = pd.read_csv(COMP_PATH+'/groundTruth/'+filesname,header=None)\n",
        "    gt_file_level['file_name'] = filesname\n",
        "    gt_file_level.columns=['cat_name','file_name']\n",
        "    \n",
        "    gt_file_level['cat_no'] = gt_file_level['cat_name'].map(actions_dict)\n",
        "    gt_frame_overall = pd.concat([gt_frame_overall,gt_file_level], sort=False) \n",
        "\n",
        "  return gt_frame_overall"
      ],
      "execution_count": 0,
      "outputs": []
    },
    {
      "cell_type": "code",
      "metadata": {
        "id": "6gPSgnJ-J77w",
        "colab_type": "code",
        "outputId": "c83e0b57-a5ef-4e8f-eb75-02bc4e7ffc00",
        "colab": {
          "base_uri": "https://localhost:8080/",
          "height": 537
        }
      },
      "source": [
        "COMP_PATH = '/gdrive/My Drive/'\n",
        "gt_frame_overall = get_frame_breakdown(COMP_PATH)\n",
        "\n",
        "%matplotlib inline\n",
        "sn.set(rc={'figure.figsize':(15.7,8.27)})\n",
        "\n",
        "sn.countplot(y= 'cat_name',orient= 'h',data=gt_frame_overall,order = gt_frame_overall['cat_name'].value_counts().index)\n",
        "plt.show()"
      ],
      "execution_count": 0,
      "outputs": [
        {
          "output_type": "display_data",
          "data": {
            "image/png": "[encoded data removed]",
            "text/plain": [
              "<Figure size 1130.4x595.44 with 1 Axes>"
            ]
          },
          "metadata": {
            "tags": []
          }
        }
      ]
    },
    {
      "cell_type": "code",
      "metadata": {
        "id": "o1S4oPg9S2WD",
        "colab_type": "code",
        "outputId": "326983c4-5fba-4118-a9c6-b8b2611f8618",
        "colab": {
          "base_uri": "https://localhost:8080/",
          "height": 52
        }
      },
      "source": [
        "######################\n",
        "6. #Get Tensor Data and Labels Ready\n",
        "######################\n",
        "#get the labels of each frame\n",
        "def get_gt(train_split):\n",
        "   file_ptr = open(train_split, 'r')\n",
        "   content_all = file_ptr.read().split('\\n')[1:-1]\n",
        "   content_all = [x.strip('./data/groundTruth/') + 't' for x in content_all]\n",
        "   all_tasks = ['tea', 'cereals', 'coffee', 'friedegg', 'juice', 'milk', 'sandwich', 'scrambledegg', 'pancake', 'salat']\n",
        "   \n",
        "   labelframe_breakfast = []\n",
        "   labelseq_breakfast = []\n",
        "   labellen_breakfast = []\n",
        "\n",
        "   for content in content_all:\n",
        "     file_ptr = open( GT_folder + content, 'r')\n",
        "     curr_gt = file_ptr.read().split('\\n')[:-1]\n",
        "     curr_gt = list(map(actions_dict.get, curr_gt))\n",
        "\n",
        "     labelframe_breakfast.append(curr_gt)     \n",
        "     #label_seq, length_seq = get_label_length_seq(curr_gt)\n",
        "     #labelseq_breakfast.append(label_seq)  \n",
        "     #labellen_breakfast.append(length_seq)  \n",
        "\n",
        "   return labelframe_breakfast\n",
        "\n",
        "labelframe_breakfast = get_gt(train_split)\n",
        "\n",
        "print(\"data label len: {} \".format(len(labelframe_breakfast)))\n",
        "print(\"Video 0 data label len: {} \".format(len(labelframe_breakfast[0])))"
      ],
      "execution_count": 0,
      "outputs": [
        {
          "output_type": "stream",
          "text": [
            "data label len: 1460 \n",
            "Video 0 data label len: 544 \n"
          ],
          "name": "stdout"
        }
      ]
    },
    {
      "cell_type": "code",
      "metadata": {
        "id": "Pfhe1IX0mfvw",
        "colab_type": "code",
        "outputId": "bb57f8a7-d86d-482c-865a-6f5fe73cd3f4",
        "colab": {
          "base_uri": "https://localhost:8080/",
          "height": 52
        }
      },
      "source": [
        "#Split the dataset into train_val dataset (not required)\n",
        "#from sklearn.model_selection import train_test_split\n",
        "#train_data ,val_data, train_label,val_label = train_test_split(data_feat_train ,labelframe_breakfast , random_state=123, test_size=0.2)\n",
        "\n",
        "#print(\"train data label len: {} \".format(len(train_data)))\n",
        "#print(\"val data label len: {} \".format(len(val_data)))"
      ],
      "execution_count": 0,
      "outputs": [
        {
          "output_type": "stream",
          "text": [
            "train data label len: 1168 \n",
            "val data label len: 292 \n"
          ],
          "name": "stdout"
        }
      ]
    },
    {
      "cell_type": "markdown",
      "metadata": {
        "id": "wPMtYZggMMBN",
        "colab_type": "text"
      },
      "source": [
        "---\n",
        "\n",
        "# **LSTM / GRU Model**\n",
        "\n",
        "\n",
        "---"
      ]
    },
    {
      "cell_type": "code",
      "metadata": {
        "id": "vUYbQJcxd1RZ",
        "colab_type": "code",
        "colab": {}
      },
      "source": [
        "def batch_generator(data_feat_train ,labelframe_breakfast,batch_size,iteration_no):\n",
        "  start_idx = batch_size*iteration_no\n",
        "  end_idx = batch_size* (iteration_no +1) \n",
        "\n",
        "  X = data_feat_train [start_idx : end_idx]\n",
        "  y = labelframe_breakfast [start_idx : end_idx]\n",
        "\n",
        "  X = sequence.pad_sequences(X,dtype='float64', value=0.0)\n",
        "  y = sequence.pad_sequences(y)\n",
        "\n",
        "  return X, y"
      ],
      "execution_count": 0,
      "outputs": []
    },
    {
      "cell_type": "code",
      "metadata": {
        "id": "PR14cNQbsDJ0",
        "colab_type": "code",
        "colab": {}
      },
      "source": [
        "#Define LSTM parameters\n",
        "n_batch = 73\n",
        "n_batch_size = 16\n",
        "epoch = 64\n"
      ],
      "execution_count": 0,
      "outputs": []
    },
    {
      "cell_type": "code",
      "metadata": {
        "id": "lRUMuBcvDGyB",
        "colab_type": "code",
        "colab": {}
      },
      "source": [
        "for i in range(n_batch):\n",
        "  # padded seqeunces\n",
        "  X,y = batch_generator(data_feat_train ,labelframe_breakfast,n_batch_size,i) \n",
        "  length = X.shape[1]\n",
        "  y = np.reshape(y, (32,length,1))\n",
        "\n",
        "  # define LSTM configuration\n",
        "  n_neurons = length\n",
        "  n_batch_size = 16\n",
        "  n_epoch = 100\n",
        "  # create LSTM\n",
        "  model = Sequential()\n",
        "  model.add(Masking(mask_value=0., input_shape=(None, 400)))\n",
        "  model.add(LSTM(n_neurons, input_shape=(None, 400), return_sequences=True))\n",
        "  model.add(LSTM(n_neurons, return_sequences=True))\n",
        "  model.add(TimeDistributed(Dense(48, activation=\"softmax\")))\n",
        "\n",
        "  sgd = optimizers.SGD(lr=0.01, decay=1e-6, momentum=0.9)\n",
        "  model.compile(loss='sparse_categorical_crossentropy', optimizer='sgd', metrics=['categorical_accuracy'])\n",
        "  print(model.summary())\n",
        "  # train LSTM\n",
        "  model.fit(X, y, epochs=n_epoch, batch_size=n_batch)\n",
        "  model.reset_states()\n",
        "  # evaluate\n",
        "  result = model.predict(X, batch_size=n_batch, verbose=0)\n",
        "\n",
        "  for value in result[0,:,0]:\n",
        "    print('%.1f' % value)"
      ],
      "execution_count": 0,
      "outputs": []
    },
    {
      "cell_type": "markdown",
      "metadata": {
        "id": "-vVlbId85e5T",
        "colab_type": "text"
      },
      "source": [
        "# Archive"
      ]
    },
    {
      "cell_type": "code",
      "metadata": {
        "id": "jHPFCTsfP69Z",
        "colab_type": "code",
        "colab": {}
      },
      "source": [
        "#Set the variables\n",
        "input_dim = 400\n",
        "hidden_dim = 100\n",
        "n_layers = 2\n",
        "output_dim = 48\n",
        "\n",
        "batch_size = 1  \n",
        "n_iters = 3000\n",
        "num_epochs = n_iters / (len(train_data) / batch_size)\n",
        "num_epochs = int(num_epochs)"
      ],
      "execution_count": 0,
      "outputs": []
    },
    {
      "cell_type": "code",
      "metadata": {
        "id": "7vV5t3JJPCA6",
        "colab_type": "code",
        "colab": {}
      },
      "source": [
        "class RNNLSTM_test(nn.Module):\n",
        "  def __init__(self,input_dim,hidden_dim,output_dim,n_layers, drop_prob=0.5):\n",
        "    super(RNNLSTM_test, self).__init__()\n",
        "    self.input_dim = input_dim\n",
        "    self.hidden_dim = hidden_dim\n",
        "    self.output_dim = output_dim\n",
        "    self.n_layers = n_layers\n",
        "\n",
        "    self.lstm = nn.LSTM(input_dim, hidden_dim, n_layers, batch_first =True)\n",
        "    self.fc = nn.Linear(hidden_dim, output_dim)\n",
        "\n",
        "  def forward(self,x):\n",
        "    # Initialize hidden state with zeros\n",
        "    h0 = torch.zeros(self.n_layers, x.size(0), self.hidden_dim).requires_grad_()\n",
        "\n",
        "    # Initialize cell state\n",
        "    c0 = torch.zeros(self.n_layers, x.size(0), self.hidden_dim).requires_grad_()\n",
        "\n",
        "    # Set Variable time steps\n",
        "    # We need to detach as we are doing truncated backpropagation through time (BPTT)\n",
        "    # If we don't, we'll backprop all the way to the start even after going through another batch\n",
        "    out, (hn, cn) = self.lstm(x, (h0.detach(), c0.detach()))\n",
        "\n",
        "    # Index hidden state of last time step\n",
        "    out = self.fc(out[:, -1, :]) \n",
        "    #out = [self.fc[i](out[:, i, :]) for i in range(seq_dim)]\n",
        "\n",
        "    return out"
      ],
      "execution_count": 0,
      "outputs": []
    },
    {
      "cell_type": "code",
      "metadata": {
        "id": "jXcZ9lsMkmHc",
        "colab_type": "code",
        "colab": {}
      },
      "source": [
        "#init the models and optimizers\n",
        "model =  RNNLSTM_test(input_dim, hidden_dim, n_layers, output_dim)\n",
        "criterion = nn.CrossEntropyLoss()\n",
        "learning_rate = 0.1\n",
        "optimizer = torch.optim.Adam(model.parameters(), lr=learning_rate)  \n",
        "\n",
        "iter = 0\n",
        "for epoch in range(1):\n",
        "  for i in range(len(train_data[0:3])):\n",
        "    seq_dim = len(train_data[i])\n",
        "    images = train_data[i]\n",
        "    labels = train_label[i]\n",
        "    # Reshape Images to 3D\n",
        "    images = images.view(-1, seq_dim, input_dim)\n",
        "    images = images.view(-1, seq_dim, input_dim).requires_grad_()\n",
        "\n",
        "    # Change Labels to tensor and reshape\n",
        "    labels = torch.FloatTensor(labels)\n",
        "    labels = labels.view(-1,len(train_label[i]),1)\n",
        "\n",
        "    # Clear gradients w.r.t. parameters\n",
        "    optimizer.zero_grad()\n",
        "\n",
        "    # Forward pass to get output/logits\n",
        "    outputs = model(images.float())\n",
        "\n",
        "  # Calculate Loss: softmax --> cross entropy loss\n",
        "    loss = criterion(outputs, labels)\n",
        "\n",
        "    # Getting gradients w.r.t. parameters\n",
        "    loss.backward()\n",
        "\n",
        "    # Updating parameters\n",
        "    optimizer.step()\n",
        "\n",
        "    iter += 1\n",
        "\n",
        "    if iter % 500 == 0:\n",
        "        # Calculate Accuracy         \n",
        "        correct = 0\n",
        "        total = 0\n",
        "        # Iterate through test dataset\n",
        "        for images, labels in test_loader:\n",
        "            # Resize image\n",
        "            images = images.view(-1, seq_dim, input_dim)\n",
        "\n",
        "            # Forward pass only to get logits/output\n",
        "            outputs = model(images)\n",
        "\n",
        "            # Get predictions from the maximum value\n",
        "            _, predicted = torch.max(outputs.data, 1)\n",
        "\n",
        "            # Total number of labels\n",
        "            total += labels.size(0)\n",
        "\n",
        "            # Total correct predictions\n",
        "            correct += (predicted == labels).sum()\n",
        "\n",
        "        accuracy = 100 * correct / total\n",
        "\n",
        "        # Print Loss\n",
        "        print('Iteration: {}. Loss: {}. Accuracy: {}'.format(iter, loss.item(), accuracy)) "
      ],
      "execution_count": 0,
      "outputs": []
    }
  ]
}